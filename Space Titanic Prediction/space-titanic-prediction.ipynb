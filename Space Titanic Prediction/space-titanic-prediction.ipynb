{
 "cells": [
  {
   "cell_type": "code",
   "execution_count": 1,
   "id": "cdd3d0b9",
   "metadata": {
    "execution": {
     "iopub.execute_input": "2024-04-01T06:06:29.885366Z",
     "iopub.status.busy": "2024-04-01T06:06:29.884848Z",
     "iopub.status.idle": "2024-04-01T06:06:29.964092Z",
     "shell.execute_reply": "2024-04-01T06:06:29.962581Z"
    },
    "id": "DuVeejkigfz2",
    "papermill": {
     "duration": 0.113489,
     "end_time": "2024-04-01T06:06:29.967798",
     "exception": false,
     "start_time": "2024-04-01T06:06:29.854309",
     "status": "completed"
    },
    "tags": []
   },
   "outputs": [],
   "source": [
    "import pandas as pd\n",
    "spaceData=pd.read_csv('/kaggle/input/spaceship-titanic/train.csv')"
   ]
  },
  {
   "cell_type": "code",
   "execution_count": 2,
   "id": "edd99f33",
   "metadata": {
    "execution": {
     "iopub.execute_input": "2024-04-01T06:06:30.016263Z",
     "iopub.status.busy": "2024-04-01T06:06:30.015837Z",
     "iopub.status.idle": "2024-04-01T06:06:30.058245Z",
     "shell.execute_reply": "2024-04-01T06:06:30.056687Z"
    },
    "id": "g-HudQlFgttK",
    "outputId": "272b4341-1fe5-46b7-f040-5ffb7d8a28c7",
    "papermill": {
     "duration": 0.070547,
     "end_time": "2024-04-01T06:06:30.061700",
     "exception": false,
     "start_time": "2024-04-01T06:06:29.991153",
     "status": "completed"
    },
    "tags": []
   },
   "outputs": [
    {
     "name": "stdout",
     "output_type": "stream",
     "text": [
      "<class 'pandas.core.frame.DataFrame'>\n",
      "RangeIndex: 8693 entries, 0 to 8692\n",
      "Data columns (total 14 columns):\n",
      " #   Column        Non-Null Count  Dtype  \n",
      "---  ------        --------------  -----  \n",
      " 0   PassengerId   8693 non-null   object \n",
      " 1   HomePlanet    8492 non-null   object \n",
      " 2   CryoSleep     8476 non-null   object \n",
      " 3   Cabin         8494 non-null   object \n",
      " 4   Destination   8511 non-null   object \n",
      " 5   Age           8514 non-null   float64\n",
      " 6   VIP           8490 non-null   object \n",
      " 7   RoomService   8512 non-null   float64\n",
      " 8   FoodCourt     8510 non-null   float64\n",
      " 9   ShoppingMall  8485 non-null   float64\n",
      " 10  Spa           8510 non-null   float64\n",
      " 11  VRDeck        8505 non-null   float64\n",
      " 12  Name          8493 non-null   object \n",
      " 13  Transported   8693 non-null   bool   \n",
      "dtypes: bool(1), float64(6), object(7)\n",
      "memory usage: 891.5+ KB\n",
      "None\n",
      "(8693, 14)\n"
     ]
    }
   ],
   "source": [
    "print(spaceData.info())\n",
    "print(spaceData.shape)"
   ]
  },
  {
   "cell_type": "code",
   "execution_count": 3,
   "id": "2b256e03",
   "metadata": {
    "execution": {
     "iopub.execute_input": "2024-04-01T06:06:30.114222Z",
     "iopub.status.busy": "2024-04-01T06:06:30.112517Z",
     "iopub.status.idle": "2024-04-01T06:06:30.154210Z",
     "shell.execute_reply": "2024-04-01T06:06:30.152736Z"
    },
    "id": "igBdmWmihUvh",
    "outputId": "dd5c4817-5f31-458a-9418-fd520606de94",
    "papermill": {
     "duration": 0.071519,
     "end_time": "2024-04-01T06:06:30.157090",
     "exception": false,
     "start_time": "2024-04-01T06:06:30.085571",
     "status": "completed"
    },
    "tags": []
   },
   "outputs": [
    {
     "data": {
      "text/html": [
       "<div>\n",
       "<style scoped>\n",
       "    .dataframe tbody tr th:only-of-type {\n",
       "        vertical-align: middle;\n",
       "    }\n",
       "\n",
       "    .dataframe tbody tr th {\n",
       "        vertical-align: top;\n",
       "    }\n",
       "\n",
       "    .dataframe thead th {\n",
       "        text-align: right;\n",
       "    }\n",
       "</style>\n",
       "<table border=\"1\" class=\"dataframe\">\n",
       "  <thead>\n",
       "    <tr style=\"text-align: right;\">\n",
       "      <th></th>\n",
       "      <th>Age</th>\n",
       "      <th>RoomService</th>\n",
       "      <th>FoodCourt</th>\n",
       "      <th>ShoppingMall</th>\n",
       "      <th>Spa</th>\n",
       "      <th>VRDeck</th>\n",
       "    </tr>\n",
       "    <tr>\n",
       "      <th>Transported</th>\n",
       "      <th></th>\n",
       "      <th></th>\n",
       "      <th></th>\n",
       "      <th></th>\n",
       "      <th></th>\n",
       "      <th></th>\n",
       "    </tr>\n",
       "  </thead>\n",
       "  <tbody>\n",
       "    <tr>\n",
       "      <th>False</th>\n",
       "      <td>29.922858</td>\n",
       "      <td>389.266066</td>\n",
       "      <td>382.615930</td>\n",
       "      <td>167.566217</td>\n",
       "      <td>564.382666</td>\n",
       "      <td>543.629822</td>\n",
       "    </tr>\n",
       "    <tr>\n",
       "      <th>True</th>\n",
       "      <td>27.748834</td>\n",
       "      <td>63.098021</td>\n",
       "      <td>532.691984</td>\n",
       "      <td>179.829972</td>\n",
       "      <td>61.675531</td>\n",
       "      <td>69.148131</td>\n",
       "    </tr>\n",
       "  </tbody>\n",
       "</table>\n",
       "</div>"
      ],
      "text/plain": [
       "                   Age  RoomService   FoodCourt  ShoppingMall         Spa  \\\n",
       "Transported                                                                 \n",
       "False        29.922858   389.266066  382.615930    167.566217  564.382666   \n",
       "True         27.748834    63.098021  532.691984    179.829972   61.675531   \n",
       "\n",
       "                 VRDeck  \n",
       "Transported              \n",
       "False        543.629822  \n",
       "True          69.148131  "
      ]
     },
     "execution_count": 3,
     "metadata": {},
     "output_type": "execute_result"
    }
   ],
   "source": [
    "# spaceData.drop(columns=['PassengerId','HomePlanet','CryoSleep'])\n",
    "spaceData.groupby('Transported').mean()"
   ]
  },
  {
   "cell_type": "markdown",
   "id": "1da611bc",
   "metadata": {
    "papermill": {
     "duration": 0.023446,
     "end_time": "2024-04-01T06:06:30.204264",
     "exception": false,
     "start_time": "2024-04-01T06:06:30.180818",
     "status": "completed"
    },
    "tags": []
   },
   "source": [
    "**Insight**\n",
    "An age of nearly 29.92285 results in not transported and vice versa\n",
    "Similarly by using the above frame , we can understand the relation between **float dtype columns**\n",
    "\n",
    "Thus we can understand, all this columns are **related to transported** ie target..\n",
    "\n",
    "So we **should not drop** any of those columns!"
   ]
  },
  {
   "cell_type": "code",
   "execution_count": 4,
   "id": "877c6980",
   "metadata": {
    "execution": {
     "iopub.execute_input": "2024-04-01T06:06:30.256020Z",
     "iopub.status.busy": "2024-04-01T06:06:30.254958Z",
     "iopub.status.idle": "2024-04-01T06:06:30.675410Z",
     "shell.execute_reply": "2024-04-01T06:06:30.673870Z"
    },
    "id": "SyHnm-vcjIqK",
    "outputId": "e6dc87c3-1131-49fd-b4f4-5a630225af1c",
    "papermill": {
     "duration": 0.450246,
     "end_time": "2024-04-01T06:06:30.678951",
     "exception": false,
     "start_time": "2024-04-01T06:06:30.228705",
     "status": "completed"
    },
    "tags": []
   },
   "outputs": [
    {
     "data": {
      "text/plain": [
       "<AxesSubplot:xlabel='Transported'>"
      ]
     },
     "execution_count": 4,
     "metadata": {},
     "output_type": "execute_result"
    },
    {
     "data": {
      "image/png": "[encoded data removed]",
      "text/plain": [
       "<Figure size 640x480 with 1 Axes>"
      ]
     },
     "metadata": {},
     "output_type": "display_data"
    }
   ],
   "source": [
    "pd.crosstab(spaceData.Transported,spaceData.VIP).plot(kind='bar')"
   ]
  },
  {
   "cell_type": "markdown",
   "id": "0990c7f1",
   "metadata": {
    "papermill": {
     "duration": 0.024387,
     "end_time": "2024-04-01T06:06:30.727807",
     "exception": false,
     "start_time": "2024-04-01T06:06:30.703420",
     "status": "completed"
    },
    "tags": []
   },
   "source": [
    "> **INSIGHT**\n",
    "\n",
    "From the above bar chart we can understand that VIP doesnt matter in the target column as an **assusmption**.\n",
    "So we drop the 'VIP' column from our data"
   ]
  },
  {
   "cell_type": "code",
   "execution_count": 5,
   "id": "5844cf8f",
   "metadata": {
    "execution": {
     "iopub.execute_input": "2024-04-01T06:06:30.779238Z",
     "iopub.status.busy": "2024-04-01T06:06:30.778290Z",
     "iopub.status.idle": "2024-04-01T06:06:30.791071Z",
     "shell.execute_reply": "2024-04-01T06:06:30.789827Z"
    },
    "id": "FsiTZXS6kBnS",
    "outputId": "1c49b814-1620-495c-905b-e6e39f86c479",
    "papermill": {
     "duration": 0.041744,
     "end_time": "2024-04-01T06:06:30.793840",
     "exception": false,
     "start_time": "2024-04-01T06:06:30.752096",
     "status": "completed"
    },
    "tags": []
   },
   "outputs": [],
   "source": [
    "spaceData['VIP'].value_counts()\n",
    "spaceData.drop(columns=['VIP'],inplace=True)"
   ]
  },
  {
   "cell_type": "code",
   "execution_count": 6,
   "id": "b2050607",
   "metadata": {
    "execution": {
     "iopub.execute_input": "2024-04-01T06:06:30.845131Z",
     "iopub.status.busy": "2024-04-01T06:06:30.844168Z",
     "iopub.status.idle": "2024-04-01T06:06:31.138481Z",
     "shell.execute_reply": "2024-04-01T06:06:31.137281Z"
    },
    "id": "Gj9GEqnHkU2l",
    "outputId": "a64e3af5-988c-41e4-d881-0dc95c438c28",
    "papermill": {
     "duration": 0.323782,
     "end_time": "2024-04-01T06:06:31.141877",
     "exception": false,
     "start_time": "2024-04-01T06:06:30.818095",
     "status": "completed"
    },
    "tags": []
   },
   "outputs": [
    {
     "data": {
      "text/plain": [
       "<AxesSubplot:xlabel='Transported'>"
      ]
     },
     "execution_count": 6,
     "metadata": {},
     "output_type": "execute_result"
    },
    {
     "data": {
      "image/png": "[encoded data removed]",
      "text/plain": [
       "<Figure size 640x480 with 1 Axes>"
      ]
     },
     "metadata": {},
     "output_type": "display_data"
    }
   ],
   "source": [
    "pd.crosstab(spaceData.Transported,spaceData.CryoSleep).plot(kind='bar')"
   ]
  },
  {
   "cell_type": "code",
   "execution_count": 7,
   "id": "c65a75fb",
   "metadata": {
    "execution": {
     "iopub.execute_input": "2024-04-01T06:06:31.196310Z",
     "iopub.status.busy": "2024-04-01T06:06:31.194669Z",
     "iopub.status.idle": "2024-04-01T06:06:31.207561Z",
     "shell.execute_reply": "2024-04-01T06:06:31.206331Z"
    },
    "id": "cecA64G5lCvg",
    "outputId": "62a54841-e4b9-415a-84ac-128258f588cf",
    "papermill": {
     "duration": 0.043201,
     "end_time": "2024-04-01T06:06:31.210423",
     "exception": false,
     "start_time": "2024-04-01T06:06:31.167222",
     "status": "completed"
    },
    "tags": []
   },
   "outputs": [
    {
     "data": {
      "text/plain": [
       "False    5439\n",
       "True     3037\n",
       "Name: CryoSleep, dtype: int64"
      ]
     },
     "execution_count": 7,
     "metadata": {},
     "output_type": "execute_result"
    }
   ],
   "source": [
    "spaceData.CryoSleep.value_counts()"
   ]
  },
  {
   "cell_type": "code",
   "execution_count": 8,
   "id": "cf2e5582",
   "metadata": {
    "execution": {
     "iopub.execute_input": "2024-04-01T06:06:31.265098Z",
     "iopub.status.busy": "2024-04-01T06:06:31.263511Z",
     "iopub.status.idle": "2024-04-01T06:06:31.579835Z",
     "shell.execute_reply": "2024-04-01T06:06:31.578281Z"
    },
    "id": "r0VusUpPk1Xv",
    "outputId": "566eb664-d57c-47cb-e8c3-aa2f979ee524",
    "papermill": {
     "duration": 0.347615,
     "end_time": "2024-04-01T06:06:31.583284",
     "exception": false,
     "start_time": "2024-04-01T06:06:31.235669",
     "status": "completed"
    },
    "tags": []
   },
   "outputs": [
    {
     "data": {
      "text/plain": [
       "<AxesSubplot:xlabel='Transported'>"
      ]
     },
     "execution_count": 8,
     "metadata": {},
     "output_type": "execute_result"
    },
    {
     "data": {
      "image/png": "[encoded data removed]",
      "text/plain": [
       "<Figure size 640x480 with 1 Axes>"
      ]
     },
     "metadata": {},
     "output_type": "display_data"
    }
   ],
   "source": [
    "pd.crosstab(spaceData.Transported,spaceData.HomePlanet).plot(kind='bar')"
   ]
  },
  {
   "cell_type": "code",
   "execution_count": 9,
   "id": "fe810aa4",
   "metadata": {
    "execution": {
     "iopub.execute_input": "2024-04-01T06:06:31.638255Z",
     "iopub.status.busy": "2024-04-01T06:06:31.636540Z",
     "iopub.status.idle": "2024-04-01T06:06:31.973318Z",
     "shell.execute_reply": "2024-04-01T06:06:31.972015Z"
    },
    "id": "7JC9KNpflkp4",
    "outputId": "9c95ad78-e1c9-4703-fc03-906606f81963",
    "papermill": {
     "duration": 0.369645,
     "end_time": "2024-04-01T06:06:31.978695",
     "exception": false,
     "start_time": "2024-04-01T06:06:31.609050",
     "status": "completed"
    },
    "tags": []
   },
   "outputs": [
    {
     "data": {
      "text/plain": [
       "<AxesSubplot:xlabel='Transported'>"
      ]
     },
     "execution_count": 9,
     "metadata": {},
     "output_type": "execute_result"
    },
    {
     "data": {
      "image/png": "[encoded data removed]",
      "text/plain": [
       "<Figure size 640x480 with 1 Axes>"
      ]
     },
     "metadata": {},
     "output_type": "display_data"
    }
   ],
   "source": [
    "pd.crosstab(spaceData.Transported,spaceData.Destination).plot(kind='bar')"
   ]
  },
  {
   "cell_type": "code",
   "execution_count": 10,
   "id": "a227fb26",
   "metadata": {
    "execution": {
     "iopub.execute_input": "2024-04-01T06:06:32.047375Z",
     "iopub.status.busy": "2024-04-01T06:06:32.046086Z",
     "iopub.status.idle": "2024-04-01T06:06:32.060786Z",
     "shell.execute_reply": "2024-04-01T06:06:32.059395Z"
    },
    "id": "sZld9n-OlycQ",
    "outputId": "0f4839b3-01f5-4644-847b-96f9074bb510",
    "papermill": {
     "duration": 0.048459,
     "end_time": "2024-04-01T06:06:32.063953",
     "exception": false,
     "start_time": "2024-04-01T06:06:32.015494",
     "status": "completed"
    },
    "tags": []
   },
   "outputs": [
    {
     "data": {
      "text/plain": [
       "TRAPPIST-1e      5915\n",
       "55 Cancri e      1800\n",
       "PSO J318.5-22     796\n",
       "Name: Destination, dtype: int64"
      ]
     },
     "execution_count": 10,
     "metadata": {},
     "output_type": "execute_result"
    }
   ],
   "source": [
    "spaceData.Destination.value_counts()"
   ]
  },
  {
   "cell_type": "markdown",
   "id": "1da25103",
   "metadata": {
    "papermill": {
     "duration": 0.02637,
     "end_time": "2024-04-01T06:06:32.118605",
     "exception": false,
     "start_time": "2024-04-01T06:06:32.092235",
     "status": "completed"
    },
    "tags": []
   },
   "source": [
    "**Insight**\n",
    "\n",
    "From the above charts we understood,\n",
    "- Destination\n",
    "- VIP\n",
    "- Name (not by charts)\n",
    "- Passenger Id (not by charts)\n",
    "\n",
    "Are not needed to predict the target column transported"
   ]
  },
  {
   "cell_type": "code",
   "execution_count": 11,
   "id": "9a56f558",
   "metadata": {
    "execution": {
     "iopub.execute_input": "2024-04-01T06:06:32.177515Z",
     "iopub.status.busy": "2024-04-01T06:06:32.176286Z",
     "iopub.status.idle": "2024-04-01T06:06:32.187199Z",
     "shell.execute_reply": "2024-04-01T06:06:32.185792Z"
    },
    "id": "q5LU0Y3zl4BX",
    "papermill": {
     "duration": 0.044352,
     "end_time": "2024-04-01T06:06:32.190818",
     "exception": false,
     "start_time": "2024-04-01T06:06:32.146466",
     "status": "completed"
    },
    "tags": []
   },
   "outputs": [],
   "source": [
    "spaceData.drop(columns=['PassengerId','Name','Destination'],axis=1,inplace=True)"
   ]
  },
  {
   "cell_type": "code",
   "execution_count": 12,
   "id": "d7ba352e",
   "metadata": {
    "execution": {
     "iopub.execute_input": "2024-04-01T06:06:32.251909Z",
     "iopub.status.busy": "2024-04-01T06:06:32.250599Z",
     "iopub.status.idle": "2024-04-01T06:06:32.278531Z",
     "shell.execute_reply": "2024-04-01T06:06:32.276893Z"
    },
    "id": "bmxOpF_gmr3j",
    "outputId": "d6ba7a10-c496-4ce3-d9e6-23b4653cd87b",
    "papermill": {
     "duration": 0.06172,
     "end_time": "2024-04-01T06:06:32.281856",
     "exception": false,
     "start_time": "2024-04-01T06:06:32.220136",
     "status": "completed"
    },
    "tags": []
   },
   "outputs": [
    {
     "name": "stdout",
     "output_type": "stream",
     "text": [
      "<class 'pandas.core.frame.DataFrame'>\n",
      "RangeIndex: 8693 entries, 0 to 8692\n",
      "Data columns (total 10 columns):\n",
      " #   Column        Non-Null Count  Dtype  \n",
      "---  ------        --------------  -----  \n",
      " 0   HomePlanet    8492 non-null   object \n",
      " 1   CryoSleep     8476 non-null   object \n",
      " 2   Cabin         8494 non-null   object \n",
      " 3   Age           8514 non-null   float64\n",
      " 4   RoomService   8512 non-null   float64\n",
      " 5   FoodCourt     8510 non-null   float64\n",
      " 6   ShoppingMall  8485 non-null   float64\n",
      " 7   Spa           8510 non-null   float64\n",
      " 8   VRDeck        8505 non-null   float64\n",
      " 9   Transported   8693 non-null   bool   \n",
      "dtypes: bool(1), float64(6), object(3)\n",
      "memory usage: 619.8+ KB\n"
     ]
    }
   ],
   "source": [
    "spaceData.info()"
   ]
  },
  {
   "cell_type": "code",
   "execution_count": 13,
   "id": "3cf3d63b",
   "metadata": {
    "execution": {
     "iopub.execute_input": "2024-04-01T06:06:32.340472Z",
     "iopub.status.busy": "2024-04-01T06:06:32.339343Z",
     "iopub.status.idle": "2024-04-01T06:06:32.358604Z",
     "shell.execute_reply": "2024-04-01T06:06:32.357074Z"
    },
    "id": "4jN0rR3Fmt-D",
    "papermill": {
     "duration": 0.051992,
     "end_time": "2024-04-01T06:06:32.361860",
     "exception": false,
     "start_time": "2024-04-01T06:06:32.309868",
     "status": "completed"
    },
    "tags": []
   },
   "outputs": [
    {
     "data": {
      "text/plain": [
       "G/734/S     8\n",
       "G/109/P     7\n",
       "B/201/P     7\n",
       "G/1368/P    7\n",
       "G/981/S     7\n",
       "           ..\n",
       "G/556/P     1\n",
       "E/231/S     1\n",
       "G/545/S     1\n",
       "G/543/S     1\n",
       "F/947/P     1\n",
       "Name: Cabin, Length: 6560, dtype: int64"
      ]
     },
     "execution_count": 13,
     "metadata": {},
     "output_type": "execute_result"
    }
   ],
   "source": [
    "spaceData.Cabin.value_counts()"
   ]
  },
  {
   "cell_type": "markdown",
   "id": "b2c1bec6",
   "metadata": {
    "papermill": {
     "duration": 0.026695,
     "end_time": "2024-04-01T06:06:32.416239",
     "exception": false,
     "start_time": "2024-04-01T06:06:32.389544",
     "status": "completed"
    },
    "tags": []
   },
   "source": [
    "**Insight**\n",
    "\n",
    "Since the 'cabin' contains more unique values, it makes the prediction too complex and it really doesnt affects our target prediction.\n",
    "\n",
    "So we removed Cabin column from our data"
   ]
  },
  {
   "cell_type": "code",
   "execution_count": 14,
   "id": "08d901d2",
   "metadata": {
    "execution": {
     "iopub.execute_input": "2024-04-01T06:06:32.475343Z",
     "iopub.status.busy": "2024-04-01T06:06:32.473860Z",
     "iopub.status.idle": "2024-04-01T06:06:32.483728Z",
     "shell.execute_reply": "2024-04-01T06:06:32.481918Z"
    },
    "papermill": {
     "duration": 0.044359,
     "end_time": "2024-04-01T06:06:32.487307",
     "exception": false,
     "start_time": "2024-04-01T06:06:32.442948",
     "status": "completed"
    },
    "tags": []
   },
   "outputs": [],
   "source": [
    "spaceData.drop(columns=['Cabin'],inplace=True)"
   ]
  },
  {
   "cell_type": "code",
   "execution_count": 15,
   "id": "9e1c168b",
   "metadata": {
    "execution": {
     "iopub.execute_input": "2024-04-01T06:06:32.547379Z",
     "iopub.status.busy": "2024-04-01T06:06:32.546350Z",
     "iopub.status.idle": "2024-04-01T06:06:32.565583Z",
     "shell.execute_reply": "2024-04-01T06:06:32.563877Z"
    },
    "papermill": {
     "duration": 0.054367,
     "end_time": "2024-04-01T06:06:32.569381",
     "exception": false,
     "start_time": "2024-04-01T06:06:32.515014",
     "status": "completed"
    },
    "tags": []
   },
   "outputs": [
    {
     "name": "stdout",
     "output_type": "stream",
     "text": [
      "<class 'pandas.core.frame.DataFrame'>\n",
      "RangeIndex: 8693 entries, 0 to 8692\n",
      "Data columns (total 9 columns):\n",
      " #   Column        Non-Null Count  Dtype  \n",
      "---  ------        --------------  -----  \n",
      " 0   HomePlanet    8492 non-null   object \n",
      " 1   CryoSleep     8476 non-null   object \n",
      " 2   Age           8514 non-null   float64\n",
      " 3   RoomService   8512 non-null   float64\n",
      " 4   FoodCourt     8510 non-null   float64\n",
      " 5   ShoppingMall  8485 non-null   float64\n",
      " 6   Spa           8510 non-null   float64\n",
      " 7   VRDeck        8505 non-null   float64\n",
      " 8   Transported   8693 non-null   bool   \n",
      "dtypes: bool(1), float64(6), object(2)\n",
      "memory usage: 551.9+ KB\n"
     ]
    }
   ],
   "source": [
    "spaceData.info()"
   ]
  },
  {
   "cell_type": "code",
   "execution_count": 16,
   "id": "feb96f4b",
   "metadata": {
    "execution": {
     "iopub.execute_input": "2024-04-01T06:06:32.628876Z",
     "iopub.status.busy": "2024-04-01T06:06:32.628317Z",
     "iopub.status.idle": "2024-04-01T06:06:32.656983Z",
     "shell.execute_reply": "2024-04-01T06:06:32.654729Z"
    },
    "papermill": {
     "duration": 0.063201,
     "end_time": "2024-04-01T06:06:32.660491",
     "exception": false,
     "start_time": "2024-04-01T06:06:32.597290",
     "status": "completed"
    },
    "tags": []
   },
   "outputs": [
    {
     "name": "stdout",
     "output_type": "stream",
     "text": [
      "<class 'pandas.core.frame.DataFrame'>\n",
      "RangeIndex: 8693 entries, 0 to 8692\n",
      "Data columns (total 9 columns):\n",
      " #   Column        Non-Null Count  Dtype  \n",
      "---  ------        --------------  -----  \n",
      " 0   HomePlanet    8693 non-null   int8   \n",
      " 1   CryoSleep     8693 non-null   int8   \n",
      " 2   Age           8514 non-null   float64\n",
      " 3   RoomService   8512 non-null   float64\n",
      " 4   FoodCourt     8510 non-null   float64\n",
      " 5   ShoppingMall  8485 non-null   float64\n",
      " 6   Spa           8510 non-null   float64\n",
      " 7   VRDeck        8505 non-null   float64\n",
      " 8   Transported   8693 non-null   bool   \n",
      "dtypes: bool(1), float64(6), int8(2)\n",
      "memory usage: 433.1 KB\n"
     ]
    }
   ],
   "source": [
    "spaceData['HomePlanet']=spaceData['HomePlanet'].astype('category')\n",
    "spaceData['HomePlanet']=spaceData['HomePlanet'].cat.codes\n",
    "spaceData['CryoSleep']=spaceData['CryoSleep'].astype('category')\n",
    "spaceData['CryoSleep']=spaceData['CryoSleep'].cat.codes\n",
    "spaceData.info()"
   ]
  },
  {
   "cell_type": "markdown",
   "id": "db113e12",
   "metadata": {
    "papermill": {
     "duration": 0.029231,
     "end_time": "2024-04-01T06:06:32.717701",
     "exception": false,
     "start_time": "2024-04-01T06:06:32.688470",
     "status": "completed"
    },
    "tags": []
   },
   "source": [
    "**Explanation**\n",
    "\n",
    "The above program is to convert the object dtype columns ('HomePlanet','CryoSleep') into int data types using astype() and cat.codes method"
   ]
  },
  {
   "cell_type": "code",
   "execution_count": 17,
   "id": "627b8b6b",
   "metadata": {
    "execution": {
     "iopub.execute_input": "2024-04-01T06:06:32.777154Z",
     "iopub.status.busy": "2024-04-01T06:06:32.776143Z",
     "iopub.status.idle": "2024-04-01T06:06:32.789318Z",
     "shell.execute_reply": "2024-04-01T06:06:32.787840Z"
    },
    "papermill": {
     "duration": 0.047396,
     "end_time": "2024-04-01T06:06:32.792305",
     "exception": false,
     "start_time": "2024-04-01T06:06:32.744909",
     "status": "completed"
    },
    "tags": []
   },
   "outputs": [
    {
     "data": {
      "text/plain": [
       "HomePlanet        0\n",
       "CryoSleep         0\n",
       "Age             179\n",
       "RoomService     181\n",
       "FoodCourt       183\n",
       "ShoppingMall    208\n",
       "Spa             183\n",
       "VRDeck          188\n",
       "Transported       0\n",
       "dtype: int64"
      ]
     },
     "execution_count": 17,
     "metadata": {},
     "output_type": "execute_result"
    }
   ],
   "source": [
    "spaceData.isnull().sum()"
   ]
  },
  {
   "cell_type": "code",
   "execution_count": 18,
   "id": "244143c3",
   "metadata": {
    "execution": {
     "iopub.execute_input": "2024-04-01T06:06:32.849722Z",
     "iopub.status.busy": "2024-04-01T06:06:32.848585Z",
     "iopub.status.idle": "2024-04-01T06:06:33.047277Z",
     "shell.execute_reply": "2024-04-01T06:06:33.045220Z"
    },
    "papermill": {
     "duration": 0.231627,
     "end_time": "2024-04-01T06:06:33.050841",
     "exception": false,
     "start_time": "2024-04-01T06:06:32.819214",
     "status": "completed"
    },
    "tags": []
   },
   "outputs": [
    {
     "name": "stdout",
     "output_type": "stream",
     "text": [
      "<class 'pandas.core.frame.DataFrame'>\n",
      "RangeIndex: 8693 entries, 0 to 8692\n",
      "Data columns (total 9 columns):\n",
      " #   Column        Non-Null Count  Dtype\n",
      "---  ------        --------------  -----\n",
      " 0   HomePlanet    8693 non-null   int8 \n",
      " 1   CryoSleep     8693 non-null   int8 \n",
      " 2   Age           8693 non-null   int64\n",
      " 3   RoomService   8693 non-null   int64\n",
      " 4   FoodCourt     8693 non-null   int64\n",
      " 5   ShoppingMall  8693 non-null   int64\n",
      " 6   Spa           8693 non-null   int64\n",
      " 7   VRDeck        8693 non-null   int64\n",
      " 8   Transported   8693 non-null   bool \n",
      "dtypes: bool(1), int64(6), int8(2)\n",
      "memory usage: 433.1 KB\n"
     ]
    }
   ],
   "source": [
    "spaceData['Age']=spaceData['Age'].fillna(spaceData['Age'].median()).astype(int)\n",
    "spaceData['RoomService']=spaceData['RoomService'].fillna(spaceData['RoomService'].mean()).astype(int)\n",
    "spaceData['Spa']=spaceData['Spa'].fillna(spaceData['Spa'].mean()).astype(int)\n",
    "spaceData['VRDeck']=spaceData['VRDeck'].fillna(spaceData['VRDeck'].mean()).astype(int)\n",
    "spaceData['FoodCourt']=spaceData['FoodCourt'].fillna(spaceData['FoodCourt'].mean()).astype(int)\n",
    "spaceData['ShoppingMall']=spaceData['ShoppingMall'].fillna(spaceData['ShoppingMall'].mean()).astype(int)\n",
    "spaceData.info()"
   ]
  },
  {
   "cell_type": "markdown",
   "id": "aa61cb4b",
   "metadata": {
    "papermill": {
     "duration": 0.030506,
     "end_time": "2024-04-01T06:06:33.108957",
     "exception": false,
     "start_time": "2024-04-01T06:06:33.078451",
     "status": "completed"
    },
    "tags": []
   },
   "source": [
    "**Explanation**\n",
    "\n",
    "In the above program\n",
    "\n",
    "- Age column\n",
    "    - median of ages has been filled instead of null values because mean gives float whereas age should be int dtype\n",
    "- Other float dtype columns\n",
    "    - filled the NA values with its mean and then convert the column into int dtype."
   ]
  },
  {
   "cell_type": "code",
   "execution_count": 19,
   "id": "090e3fce",
   "metadata": {
    "execution": {
     "iopub.execute_input": "2024-04-01T06:06:33.166997Z",
     "iopub.status.busy": "2024-04-01T06:06:33.166455Z",
     "iopub.status.idle": "2024-04-01T06:06:34.475451Z",
     "shell.execute_reply": "2024-04-01T06:06:34.473245Z"
    },
    "papermill": {
     "duration": 1.342154,
     "end_time": "2024-04-01T06:06:34.478814",
     "exception": false,
     "start_time": "2024-04-01T06:06:33.136660",
     "status": "completed"
    },
    "tags": []
   },
   "outputs": [
    {
     "name": "stdout",
     "output_type": "stream",
     "text": [
      "<class 'pandas.core.frame.DataFrame'>\n",
      "RangeIndex: 8693 entries, 0 to 8692\n",
      "Data columns (total 8 columns):\n",
      " #   Column        Non-Null Count  Dtype\n",
      "---  ------        --------------  -----\n",
      " 0   HomePlanet    8693 non-null   int8 \n",
      " 1   CryoSleep     8693 non-null   int8 \n",
      " 2   Age           8693 non-null   int64\n",
      " 3   RoomService   8693 non-null   int64\n",
      " 4   FoodCourt     8693 non-null   int64\n",
      " 5   ShoppingMall  8693 non-null   int64\n",
      " 6   Spa           8693 non-null   int64\n",
      " 7   VRDeck        8693 non-null   int64\n",
      "dtypes: int64(6), int8(2)\n",
      "memory usage: 424.6 KB\n",
      "<class 'pandas.core.frame.DataFrame'>\n",
      "RangeIndex: 8693 entries, 0 to 8692\n",
      "Data columns (total 1 columns):\n",
      " #   Column       Non-Null Count  Dtype\n",
      "---  ------       --------------  -----\n",
      " 0   Transported  8693 non-null   bool \n",
      "dtypes: bool(1)\n",
      "memory usage: 8.6 KB\n",
      "None \n",
      " None\n"
     ]
    }
   ],
   "source": [
    "from sklearn.linear_model import LogisticRegression\n",
    "from sklearn.model_selection import train_test_split\n",
    "LRModel=LogisticRegression()\n",
    "X=spaceData.drop(columns=['Transported'])\n",
    "y=pd.DataFrame(spaceData['Transported'])\n",
    "print(X.info(),\"\\n\",y.info())"
   ]
  },
  {
   "cell_type": "code",
   "execution_count": 20,
   "id": "035c313b",
   "metadata": {
    "execution": {
     "iopub.execute_input": "2024-04-01T06:06:34.537079Z",
     "iopub.status.busy": "2024-04-01T06:06:34.536158Z",
     "iopub.status.idle": "2024-04-01T06:06:34.560244Z",
     "shell.execute_reply": "2024-04-01T06:06:34.558808Z"
    },
    "papermill": {
     "duration": 0.056607,
     "end_time": "2024-04-01T06:06:34.563567",
     "exception": false,
     "start_time": "2024-04-01T06:06:34.506960",
     "status": "completed"
    },
    "tags": []
   },
   "outputs": [
    {
     "name": "stdout",
     "output_type": "stream",
     "text": [
      "<class 'pandas.core.frame.DataFrame'>\n",
      "Int64Index: 7823 entries, 8206 to 130\n",
      "Data columns (total 8 columns):\n",
      " #   Column        Non-Null Count  Dtype\n",
      "---  ------        --------------  -----\n",
      " 0   HomePlanet    7823 non-null   int8 \n",
      " 1   CryoSleep     7823 non-null   int8 \n",
      " 2   Age           7823 non-null   int64\n",
      " 3   RoomService   7823 non-null   int64\n",
      " 4   FoodCourt     7823 non-null   int64\n",
      " 5   ShoppingMall  7823 non-null   int64\n",
      " 6   Spa           7823 non-null   int64\n",
      " 7   VRDeck        7823 non-null   int64\n",
      "dtypes: int64(6), int8(2)\n",
      "memory usage: 443.1 KB\n",
      "<class 'pandas.core.frame.DataFrame'>\n",
      "Int64Index: 870 entries, 1451 to 7620\n",
      "Data columns (total 8 columns):\n",
      " #   Column        Non-Null Count  Dtype\n",
      "---  ------        --------------  -----\n",
      " 0   HomePlanet    870 non-null    int8 \n",
      " 1   CryoSleep     870 non-null    int8 \n",
      " 2   Age           870 non-null    int64\n",
      " 3   RoomService   870 non-null    int64\n",
      " 4   FoodCourt     870 non-null    int64\n",
      " 5   ShoppingMall  870 non-null    int64\n",
      " 6   Spa           870 non-null    int64\n",
      " 7   VRDeck        870 non-null    int64\n",
      "dtypes: int64(6), int8(2)\n",
      "memory usage: 49.3 KB\n",
      "None \n",
      " None\n"
     ]
    }
   ],
   "source": [
    "X_train,X_test,y_train,y_test=train_test_split(X,y,test_size=0.1)\n",
    "print(X_train.info(),\"\\n\",X_test.info())"
   ]
  },
  {
   "cell_type": "code",
   "execution_count": 21,
   "id": "e9b58d08",
   "metadata": {
    "execution": {
     "iopub.execute_input": "2024-04-01T06:06:34.620910Z",
     "iopub.status.busy": "2024-04-01T06:06:34.620164Z",
     "iopub.status.idle": "2024-04-01T06:06:34.634533Z",
     "shell.execute_reply": "2024-04-01T06:06:34.633066Z"
    },
    "papermill": {
     "duration": 0.04622,
     "end_time": "2024-04-01T06:06:34.637331",
     "exception": false,
     "start_time": "2024-04-01T06:06:34.591111",
     "status": "completed"
    },
    "tags": []
   },
   "outputs": [
    {
     "name": "stdout",
     "output_type": "stream",
     "text": [
      "<class 'pandas.core.frame.DataFrame'>\n",
      "Int64Index: 7823 entries, 8206 to 130\n",
      "Data columns (total 1 columns):\n",
      " #   Column       Non-Null Count  Dtype\n",
      "---  ------       --------------  -----\n",
      " 0   Transported  7823 non-null   bool \n",
      "dtypes: bool(1)\n",
      "memory usage: 68.8 KB\n"
     ]
    }
   ],
   "source": [
    "y_train.info()\n",
    "y_train=y_train.squeeze()"
   ]
  },
  {
   "cell_type": "markdown",
   "id": "da1c8f7c",
   "metadata": {
    "papermill": {
     "duration": 0.02734,
     "end_time": "2024-04-01T06:06:34.691827",
     "exception": false,
     "start_time": "2024-04-01T06:06:34.664487",
     "status": "completed"
    },
    "tags": []
   },
   "source": [
    "**Explanation**\n",
    "\n",
    "\n",
    "Squeeze() is a method used to convert 2d array into 1d array \n",
    "\n",
    "ie (7823, 1) to (7823, )"
   ]
  },
  {
   "cell_type": "code",
   "execution_count": 22,
   "id": "42be0cb7",
   "metadata": {
    "execution": {
     "iopub.execute_input": "2024-04-01T06:06:34.747990Z",
     "iopub.status.busy": "2024-04-01T06:06:34.747465Z",
     "iopub.status.idle": "2024-04-01T06:06:34.934477Z",
     "shell.execute_reply": "2024-04-01T06:06:34.933079Z"
    },
    "papermill": {
     "duration": 0.220855,
     "end_time": "2024-04-01T06:06:34.939520",
     "exception": false,
     "start_time": "2024-04-01T06:06:34.718665",
     "status": "completed"
    },
    "tags": []
   },
   "outputs": [
    {
     "name": "stderr",
     "output_type": "stream",
     "text": [
      "/opt/conda/lib/python3.7/site-packages/sklearn/linear_model/_logistic.py:818: ConvergenceWarning: lbfgs failed to converge (status=1):\n",
      "STOP: TOTAL NO. of ITERATIONS REACHED LIMIT.\n",
      "\n",
      "Increase the number of iterations (max_iter) or scale the data as shown in:\n",
      "    https://scikit-learn.org/stable/modules/preprocessing.html\n",
      "Please also refer to the documentation for alternative solver options:\n",
      "    https://scikit-learn.org/stable/modules/linear_model.html#logistic-regression\n",
      "  extra_warning_msg=_LOGISTIC_SOLVER_CONVERGENCE_MSG,\n"
     ]
    }
   ],
   "source": [
    "LRModel.fit(X_train,y_train)\n",
    "y_pred=LRModel.predict(X_test)\n",
    "# print(LRModel.score(y_pred,y_test),\"\\n\",LRModel.score(X_test,y_test))"
   ]
  },
  {
   "cell_type": "code",
   "execution_count": 23,
   "id": "eed18c31",
   "metadata": {
    "execution": {
     "iopub.execute_input": "2024-04-01T06:06:35.052753Z",
     "iopub.status.busy": "2024-04-01T06:06:35.052299Z",
     "iopub.status.idle": "2024-04-01T06:06:35.062811Z",
     "shell.execute_reply": "2024-04-01T06:06:35.061047Z"
    },
    "papermill": {
     "duration": 0.068696,
     "end_time": "2024-04-01T06:06:35.067641",
     "exception": false,
     "start_time": "2024-04-01T06:06:34.998945",
     "status": "completed"
    },
    "tags": []
   },
   "outputs": [
    {
     "name": "stdout",
     "output_type": "stream",
     "text": [
      "[False False False False False False False  True  True  True  True  True\n",
      " False False  True False False  True  True False  True False  True  True\n",
      " False  True  True  True  True  True  True  True  True  True False  True\n",
      " False False  True False False  True  True False  True  True False False\n",
      " False  True False False  True  True  True False False  True False  True\n",
      "  True False  True  True False  True  True False False False  True False\n",
      "  True False False  True False  True False  True  True  True False False\n",
      "  True False False False  True False  True  True False  True  True  True\n",
      "  True False  True  True False  True False False False  True  True False\n",
      " False False  True  True  True  True  True False False False False False\n",
      " False  True  True  True False  True  True False  True  True  True  True\n",
      " False  True False  True  True False False False False False False False\n",
      "  True  True  True  True  True  True  True  True  True  True  True False\n",
      "  True  True False False  True False False False False False  True  True\n",
      "  True False  True False False  True False False  True  True  True False\n",
      "  True False False False  True False False False  True False False  True\n",
      "  True False  True  True False  True  True  True False  True False  True\n",
      "  True  True  True False  True  True  True  True  True False  True False\n",
      "  True False False False  True  True False  True False False  True  True\n",
      "  True  True  True False False  True  True  True False  True  True  True\n",
      "  True  True  True  True  True  True  True  True  True False  True False\n",
      " False  True  True False  True  True  True  True  True False  True  True\n",
      "  True  True False  True  True False False  True  True  True  True  True\n",
      " False  True False  True False  True  True  True False  True False  True\n",
      "  True  True  True  True  True False  True  True False  True  True  True\n",
      "  True  True  True False  True  True False  True False  True  True  True\n",
      "  True  True  True False  True False False False  True  True  True  True\n",
      "  True False  True False False  True  True False  True  True  True  True\n",
      "  True False  True False False  True False False False False False False\n",
      " False  True False  True  True False  True  True  True  True  True False\n",
      " False False  True False  True  True False False False False  True False\n",
      " False False  True  True  True False False  True  True False False False\n",
      " False  True  True  True False False  True  True  True False False False\n",
      " False False  True False  True  True  True  True  True False False  True\n",
      "  True  True  True  True False  True False False  True  True  True False\n",
      " False  True  True False False False  True  True False False  True  True\n",
      " False False  True False False False False False  True  True  True  True\n",
      "  True False  True  True  True  True  True False False False  True False\n",
      "  True  True False False  True False  True  True  True  True  True  True\n",
      "  True  True  True False False  True False  True  True  True  True  True\n",
      "  True  True  True  True  True False  True False False  True  True False\n",
      " False  True False False  True  True  True False False False  True  True\n",
      "  True False False False  True False False  True  True False  True False\n",
      "  True  True False  True  True  True False False  True False False False\n",
      " False False  True False False  True False False  True False False  True\n",
      " False False  True  True  True  True  True False False  True False  True\n",
      "  True  True False  True  True False  True  True  True False False False\n",
      "  True False False False  True False  True  True False False  True  True\n",
      " False False  True False False False  True False  True False  True  True\n",
      " False False False  True  True False  True  True  True  True  True  True\n",
      "  True False  True False False False  True  True False  True False  True\n",
      " False  True  True False  True  True False False False False False  True\n",
      "  True False  True False  True False  True False  True False  True False\n",
      "  True  True False  True False False  True  True  True  True  True  True\n",
      " False False  True False False  True  True  True  True False  True False\n",
      " False  True  True  True  True  True False False False  True False  True\n",
      " False False False  True  True False  True  True False  True  True False\n",
      " False  True False False False  True  True  True  True False  True False\n",
      " False False False  True False False  True  True  True  True False  True\n",
      "  True  True  True  True  True  True False False False False  True  True\n",
      "  True  True False  True  True False False False False False False False\n",
      "  True False  True  True False  True False  True  True  True  True False\n",
      " False False  True False False False  True False  True False  True  True\n",
      "  True  True  True  True False  True  True  True  True False False  True\n",
      "  True False  True  True  True False False False False  True  True  True\n",
      " False  True False False False False False False False False False False\n",
      "  True  True False  True False  True False False False  True  True False\n",
      "  True  True  True False  True  True  True False False False  True  True\n",
      "  True  True False False False  True False False  True  True  True  True\n",
      "  True  True False  True False  True  True False  True False False  True\n",
      "  True  True  True  True False False False  True  True  True False False\n",
      " False  True False  True False  True  True False  True  True False  True\n",
      " False  True False False False  True]\n"
     ]
    }
   ],
   "source": [
    "print(y_pred)"
   ]
  },
  {
   "cell_type": "code",
   "execution_count": 24,
   "id": "a70b9a3e",
   "metadata": {
    "execution": {
     "iopub.execute_input": "2024-04-01T06:06:35.127035Z",
     "iopub.status.busy": "2024-04-01T06:06:35.126518Z",
     "iopub.status.idle": "2024-04-01T06:06:35.134345Z",
     "shell.execute_reply": "2024-04-01T06:06:35.132897Z"
    },
    "papermill": {
     "duration": 0.041703,
     "end_time": "2024-04-01T06:06:35.137181",
     "exception": false,
     "start_time": "2024-04-01T06:06:35.095478",
     "status": "completed"
    },
    "tags": []
   },
   "outputs": [],
   "source": [
    "y_pred=pd.Series(y_pred)\n",
    "y_pred=y_pred.to_frame(name=\"Transported\")"
   ]
  },
  {
   "cell_type": "code",
   "execution_count": 25,
   "id": "94a47b4b",
   "metadata": {
    "execution": {
     "iopub.execute_input": "2024-04-01T06:06:35.195953Z",
     "iopub.status.busy": "2024-04-01T06:06:35.194879Z",
     "iopub.status.idle": "2024-04-01T06:06:35.206677Z",
     "shell.execute_reply": "2024-04-01T06:06:35.204684Z"
    },
    "papermill": {
     "duration": 0.045549,
     "end_time": "2024-04-01T06:06:35.210232",
     "exception": false,
     "start_time": "2024-04-01T06:06:35.164683",
     "status": "completed"
    },
    "tags": []
   },
   "outputs": [
    {
     "name": "stdout",
     "output_type": "stream",
     "text": [
      "0.7632183908045977\n"
     ]
    }
   ],
   "source": [
    "print(LRModel.score(X_test,y_test))"
   ]
  },
  {
   "cell_type": "markdown",
   "id": "c4386146",
   "metadata": {
    "papermill": {
     "duration": 0.028479,
     "end_time": "2024-04-01T06:06:35.266506",
     "exception": false,
     "start_time": "2024-04-01T06:06:35.238027",
     "status": "completed"
    },
    "tags": []
   },
   "source": [
    "**Explanation**\n",
    "\n",
    "Now, Target as bool dtype has been predicted and results in 0.7609 accuracy (76%)\n",
    "\n",
    "But our submission file should predict it by int value, \n",
    "\n",
    "# so let us train out model with transport column as int dtype"
   ]
  },
  {
   "cell_type": "code",
   "execution_count": 26,
   "id": "5913417f",
   "metadata": {
    "execution": {
     "iopub.execute_input": "2024-04-01T06:06:35.324148Z",
     "iopub.status.busy": "2024-04-01T06:06:35.323675Z",
     "iopub.status.idle": "2024-04-01T06:06:35.337277Z",
     "shell.execute_reply": "2024-04-01T06:06:35.335584Z"
    },
    "papermill": {
     "duration": 0.046157,
     "end_time": "2024-04-01T06:06:35.340376",
     "exception": false,
     "start_time": "2024-04-01T06:06:35.294219",
     "status": "completed"
    },
    "tags": []
   },
   "outputs": [
    {
     "data": {
      "text/plain": [
       "8206    1\n",
       "6097    1\n",
       "8409    1\n",
       "6163    1\n",
       "8101    0\n",
       "dtype: int8"
      ]
     },
     "execution_count": 26,
     "metadata": {},
     "output_type": "execute_result"
    }
   ],
   "source": [
    "y_train=y_train.astype('category')\n",
    "y_train=y_train.cat.codes\n",
    "y_train.head()"
   ]
  },
  {
   "cell_type": "code",
   "execution_count": 27,
   "id": "f39f3042",
   "metadata": {
    "execution": {
     "iopub.execute_input": "2024-04-01T06:06:35.401236Z",
     "iopub.status.busy": "2024-04-01T06:06:35.400720Z",
     "iopub.status.idle": "2024-04-01T06:06:35.425063Z",
     "shell.execute_reply": "2024-04-01T06:06:35.423380Z"
    },
    "papermill": {
     "duration": 0.058518,
     "end_time": "2024-04-01T06:06:35.427890",
     "exception": false,
     "start_time": "2024-04-01T06:06:35.369372",
     "status": "completed"
    },
    "tags": []
   },
   "outputs": [
    {
     "name": "stdout",
     "output_type": "stream",
     "text": [
      "<class 'pandas.core.frame.DataFrame'>\n",
      "Int64Index: 870 entries, 1451 to 7620\n",
      "Data columns (total 1 columns):\n",
      " #   Column       Non-Null Count  Dtype\n",
      "---  ------       --------------  -----\n",
      " 0   Transported  870 non-null    int8 \n",
      "dtypes: int8(1)\n",
      "memory usage: 7.6 KB\n"
     ]
    },
    {
     "data": {
      "text/html": [
       "<div>\n",
       "<style scoped>\n",
       "    .dataframe tbody tr th:only-of-type {\n",
       "        vertical-align: middle;\n",
       "    }\n",
       "\n",
       "    .dataframe tbody tr th {\n",
       "        vertical-align: top;\n",
       "    }\n",
       "\n",
       "    .dataframe thead th {\n",
       "        text-align: right;\n",
       "    }\n",
       "</style>\n",
       "<table border=\"1\" class=\"dataframe\">\n",
       "  <thead>\n",
       "    <tr style=\"text-align: right;\">\n",
       "      <th></th>\n",
       "      <th>Transported</th>\n",
       "    </tr>\n",
       "  </thead>\n",
       "  <tbody>\n",
       "    <tr>\n",
       "      <th>1451</th>\n",
       "      <td>0</td>\n",
       "    </tr>\n",
       "    <tr>\n",
       "      <th>2214</th>\n",
       "      <td>0</td>\n",
       "    </tr>\n",
       "    <tr>\n",
       "      <th>6898</th>\n",
       "      <td>1</td>\n",
       "    </tr>\n",
       "    <tr>\n",
       "      <th>3861</th>\n",
       "      <td>0</td>\n",
       "    </tr>\n",
       "    <tr>\n",
       "      <th>5127</th>\n",
       "      <td>1</td>\n",
       "    </tr>\n",
       "  </tbody>\n",
       "</table>\n",
       "</div>"
      ],
      "text/plain": [
       "      Transported\n",
       "1451            0\n",
       "2214            0\n",
       "6898            1\n",
       "3861            0\n",
       "5127            1"
      ]
     },
     "execution_count": 27,
     "metadata": {},
     "output_type": "execute_result"
    }
   ],
   "source": [
    "y_test['Transported']=y_test['Transported'].astype('category')\n",
    "y_test['Transported']=y_test['Transported'].cat.codes\n",
    "y_test.info()\n",
    "y_test.head()"
   ]
  },
  {
   "cell_type": "code",
   "execution_count": 28,
   "id": "3f902f29",
   "metadata": {
    "execution": {
     "iopub.execute_input": "2024-04-01T06:06:35.489619Z",
     "iopub.status.busy": "2024-04-01T06:06:35.488068Z",
     "iopub.status.idle": "2024-04-01T06:06:35.680182Z",
     "shell.execute_reply": "2024-04-01T06:06:35.677795Z"
    },
    "papermill": {
     "duration": 0.229025,
     "end_time": "2024-04-01T06:06:35.686432",
     "exception": false,
     "start_time": "2024-04-01T06:06:35.457407",
     "status": "completed"
    },
    "tags": []
   },
   "outputs": [
    {
     "name": "stderr",
     "output_type": "stream",
     "text": [
      "/opt/conda/lib/python3.7/site-packages/sklearn/linear_model/_logistic.py:818: ConvergenceWarning: lbfgs failed to converge (status=1):\n",
      "STOP: TOTAL NO. of ITERATIONS REACHED LIMIT.\n",
      "\n",
      "Increase the number of iterations (max_iter) or scale the data as shown in:\n",
      "    https://scikit-learn.org/stable/modules/preprocessing.html\n",
      "Please also refer to the documentation for alternative solver options:\n",
      "    https://scikit-learn.org/stable/modules/linear_model.html#logistic-regression\n",
      "  extra_warning_msg=_LOGISTIC_SOLVER_CONVERGENCE_MSG,\n"
     ]
    }
   ],
   "source": [
    "LRModel.fit(X_train,y_train)\n",
    "y_pred=LRModel.predict(X_test)\n",
    "# print(LRModel.score(y_pred,y_test),\"\\n\",LRModel.score(X_test,y_test))"
   ]
  },
  {
   "cell_type": "code",
   "execution_count": 29,
   "id": "865d19df",
   "metadata": {
    "execution": {
     "iopub.execute_input": "2024-04-01T06:06:35.798878Z",
     "iopub.status.busy": "2024-04-01T06:06:35.798369Z",
     "iopub.status.idle": "2024-04-01T06:06:35.810933Z",
     "shell.execute_reply": "2024-04-01T06:06:35.809522Z"
    },
    "papermill": {
     "duration": 0.064714,
     "end_time": "2024-04-01T06:06:35.813869",
     "exception": false,
     "start_time": "2024-04-01T06:06:35.749155",
     "status": "completed"
    },
    "tags": []
   },
   "outputs": [
    {
     "name": "stdout",
     "output_type": "stream",
     "text": [
      "0.7632183908045977\n"
     ]
    }
   ],
   "source": [
    "y_pred=pd.Series(y_pred)\n",
    "y_pred=y_pred.to_frame(name=\"Transported\")\n",
    "print(LRModel.score(X_test,y_test))"
   ]
  },
  {
   "cell_type": "markdown",
   "id": "8df0682b",
   "metadata": {
    "papermill": {
     "duration": 0.028114,
     "end_time": "2024-04-01T06:06:35.870165",
     "exception": false,
     "start_time": "2024-04-01T06:06:35.842051",
     "status": "completed"
    },
    "tags": []
   },
   "source": [
    "**Explanation**\n",
    "\n",
    "Now also, our model works as same as before , because dtype doesnt matter in the accuracy!!\n",
    "\n",
    "\n",
    "# **Let us see, whether adding VIP column improves our accuracy by doing all the steps done before**"
   ]
  },
  {
   "cell_type": "code",
   "execution_count": 30,
   "id": "cd0dd230",
   "metadata": {
    "execution": {
     "iopub.execute_input": "2024-04-01T06:06:35.931468Z",
     "iopub.status.busy": "2024-04-01T06:06:35.930935Z",
     "iopub.status.idle": "2024-04-01T06:06:35.978159Z",
     "shell.execute_reply": "2024-04-01T06:06:35.976906Z"
    },
    "papermill": {
     "duration": 0.081364,
     "end_time": "2024-04-01T06:06:35.981537",
     "exception": false,
     "start_time": "2024-04-01T06:06:35.900173",
     "status": "completed"
    },
    "tags": []
   },
   "outputs": [],
   "source": [
    "subData=pd.read_csv('/kaggle/input/spaceship-titanic/train.csv')\n",
    "subData=subData['VIP']"
   ]
  },
  {
   "cell_type": "code",
   "execution_count": 31,
   "id": "3a18e1fb",
   "metadata": {
    "execution": {
     "iopub.execute_input": "2024-04-01T06:06:36.042936Z",
     "iopub.status.busy": "2024-04-01T06:06:36.041307Z",
     "iopub.status.idle": "2024-04-01T06:06:36.051833Z",
     "shell.execute_reply": "2024-04-01T06:06:36.050577Z"
    },
    "papermill": {
     "duration": 0.044299,
     "end_time": "2024-04-01T06:06:36.055085",
     "exception": false,
     "start_time": "2024-04-01T06:06:36.010786",
     "status": "completed"
    },
    "tags": []
   },
   "outputs": [],
   "source": [
    "subData=subData.astype('category')"
   ]
  },
  {
   "cell_type": "code",
   "execution_count": 32,
   "id": "3c609a9c",
   "metadata": {
    "execution": {
     "iopub.execute_input": "2024-04-01T06:06:36.116111Z",
     "iopub.status.busy": "2024-04-01T06:06:36.115580Z",
     "iopub.status.idle": "2024-04-01T06:06:36.122472Z",
     "shell.execute_reply": "2024-04-01T06:06:36.121054Z"
    },
    "papermill": {
     "duration": 0.042457,
     "end_time": "2024-04-01T06:06:36.126022",
     "exception": false,
     "start_time": "2024-04-01T06:06:36.083565",
     "status": "completed"
    },
    "tags": []
   },
   "outputs": [],
   "source": [
    "subData=subData.cat.codes\n",
    "subData=subData.to_frame(name=\"VIP\")"
   ]
  },
  {
   "cell_type": "code",
   "execution_count": 33,
   "id": "d971748b",
   "metadata": {
    "execution": {
     "iopub.execute_input": "2024-04-01T06:06:36.186355Z",
     "iopub.status.busy": "2024-04-01T06:06:36.184992Z",
     "iopub.status.idle": "2024-04-01T06:06:36.193276Z",
     "shell.execute_reply": "2024-04-01T06:06:36.191725Z"
    },
    "papermill": {
     "duration": 0.04167,
     "end_time": "2024-04-01T06:06:36.196208",
     "exception": false,
     "start_time": "2024-04-01T06:06:36.154538",
     "status": "completed"
    },
    "tags": []
   },
   "outputs": [],
   "source": [
    "spaceData=pd.concat([spaceData,subData],axis='columns')"
   ]
  },
  {
   "cell_type": "code",
   "execution_count": 34,
   "id": "294b9e51",
   "metadata": {
    "execution": {
     "iopub.execute_input": "2024-04-01T06:06:36.256653Z",
     "iopub.status.busy": "2024-04-01T06:06:36.255125Z",
     "iopub.status.idle": "2024-04-01T06:06:36.273390Z",
     "shell.execute_reply": "2024-04-01T06:06:36.271161Z"
    },
    "papermill": {
     "duration": 0.051754,
     "end_time": "2024-04-01T06:06:36.276390",
     "exception": false,
     "start_time": "2024-04-01T06:06:36.224636",
     "status": "completed"
    },
    "tags": []
   },
   "outputs": [
    {
     "name": "stdout",
     "output_type": "stream",
     "text": [
      "<class 'pandas.core.frame.DataFrame'>\n",
      "RangeIndex: 8693 entries, 0 to 8692\n",
      "Data columns (total 10 columns):\n",
      " #   Column        Non-Null Count  Dtype\n",
      "---  ------        --------------  -----\n",
      " 0   HomePlanet    8693 non-null   int8 \n",
      " 1   CryoSleep     8693 non-null   int8 \n",
      " 2   Age           8693 non-null   int64\n",
      " 3   RoomService   8693 non-null   int64\n",
      " 4   FoodCourt     8693 non-null   int64\n",
      " 5   ShoppingMall  8693 non-null   int64\n",
      " 6   Spa           8693 non-null   int64\n",
      " 7   VRDeck        8693 non-null   int64\n",
      " 8   Transported   8693 non-null   bool \n",
      " 9   VIP           8693 non-null   int8 \n",
      "dtypes: bool(1), int64(6), int8(3)\n",
      "memory usage: 441.6 KB\n"
     ]
    }
   ],
   "source": [
    "spaceData.info()"
   ]
  },
  {
   "cell_type": "code",
   "execution_count": 35,
   "id": "a4c0f601",
   "metadata": {
    "execution": {
     "iopub.execute_input": "2024-04-01T06:06:36.336738Z",
     "iopub.status.busy": "2024-04-01T06:06:36.336167Z",
     "iopub.status.idle": "2024-04-01T06:06:36.348905Z",
     "shell.execute_reply": "2024-04-01T06:06:36.347192Z"
    },
    "papermill": {
     "duration": 0.046989,
     "end_time": "2024-04-01T06:06:36.352120",
     "exception": false,
     "start_time": "2024-04-01T06:06:36.305131",
     "status": "completed"
    },
    "tags": []
   },
   "outputs": [
    {
     "data": {
      "text/plain": [
       "VIP    0\n",
       "dtype: int64"
      ]
     },
     "execution_count": 35,
     "metadata": {},
     "output_type": "execute_result"
    }
   ],
   "source": [
    "subData.isnull().sum()"
   ]
  },
  {
   "cell_type": "code",
   "execution_count": 36,
   "id": "5ee9372d",
   "metadata": {
    "execution": {
     "iopub.execute_input": "2024-04-01T06:06:36.413875Z",
     "iopub.status.busy": "2024-04-01T06:06:36.413316Z",
     "iopub.status.idle": "2024-04-01T06:06:36.441181Z",
     "shell.execute_reply": "2024-04-01T06:06:36.438894Z"
    },
    "papermill": {
     "duration": 0.061989,
     "end_time": "2024-04-01T06:06:36.444347",
     "exception": false,
     "start_time": "2024-04-01T06:06:36.382358",
     "status": "completed"
    },
    "tags": []
   },
   "outputs": [
    {
     "name": "stdout",
     "output_type": "stream",
     "text": [
      "<class 'pandas.core.frame.DataFrame'>\n",
      "RangeIndex: 8693 entries, 0 to 8692\n",
      "Data columns (total 9 columns):\n",
      " #   Column        Non-Null Count  Dtype\n",
      "---  ------        --------------  -----\n",
      " 0   HomePlanet    8693 non-null   int8 \n",
      " 1   CryoSleep     8693 non-null   int8 \n",
      " 2   Age           8693 non-null   int64\n",
      " 3   RoomService   8693 non-null   int64\n",
      " 4   FoodCourt     8693 non-null   int64\n",
      " 5   ShoppingMall  8693 non-null   int64\n",
      " 6   Spa           8693 non-null   int64\n",
      " 7   VRDeck        8693 non-null   int64\n",
      " 8   VIP           8693 non-null   int8 \n",
      "dtypes: int64(6), int8(3)\n",
      "memory usage: 433.1 KB\n",
      "<class 'pandas.core.frame.DataFrame'>\n",
      "RangeIndex: 8693 entries, 0 to 8692\n",
      "Data columns (total 1 columns):\n",
      " #   Column       Non-Null Count  Dtype\n",
      "---  ------       --------------  -----\n",
      " 0   Transported  8693 non-null   bool \n",
      "dtypes: bool(1)\n",
      "memory usage: 8.6 KB\n",
      "None \n",
      " None\n"
     ]
    }
   ],
   "source": [
    "X=spaceData.drop(columns=['Transported'])\n",
    "y=pd.DataFrame(spaceData['Transported'])\n",
    "print(X.info(),\"\\n\",y.info())"
   ]
  },
  {
   "cell_type": "code",
   "execution_count": 37,
   "id": "3a70248f",
   "metadata": {
    "execution": {
     "iopub.execute_input": "2024-04-01T06:06:36.505693Z",
     "iopub.status.busy": "2024-04-01T06:06:36.505151Z",
     "iopub.status.idle": "2024-04-01T06:06:36.532296Z",
     "shell.execute_reply": "2024-04-01T06:06:36.531168Z"
    },
    "papermill": {
     "duration": 0.061948,
     "end_time": "2024-04-01T06:06:36.535514",
     "exception": false,
     "start_time": "2024-04-01T06:06:36.473566",
     "status": "completed"
    },
    "tags": []
   },
   "outputs": [
    {
     "name": "stdout",
     "output_type": "stream",
     "text": [
      "<class 'pandas.core.frame.DataFrame'>\n",
      "Int64Index: 7823 entries, 2273 to 557\n",
      "Data columns (total 9 columns):\n",
      " #   Column        Non-Null Count  Dtype\n",
      "---  ------        --------------  -----\n",
      " 0   HomePlanet    7823 non-null   int8 \n",
      " 1   CryoSleep     7823 non-null   int8 \n",
      " 2   Age           7823 non-null   int64\n",
      " 3   RoomService   7823 non-null   int64\n",
      " 4   FoodCourt     7823 non-null   int64\n",
      " 5   ShoppingMall  7823 non-null   int64\n",
      " 6   Spa           7823 non-null   int64\n",
      " 7   VRDeck        7823 non-null   int64\n",
      " 8   VIP           7823 non-null   int8 \n",
      "dtypes: int64(6), int8(3)\n",
      "memory usage: 450.7 KB\n",
      "<class 'pandas.core.frame.DataFrame'>\n",
      "Int64Index: 870 entries, 419 to 5552\n",
      "Data columns (total 9 columns):\n",
      " #   Column        Non-Null Count  Dtype\n",
      "---  ------        --------------  -----\n",
      " 0   HomePlanet    870 non-null    int8 \n",
      " 1   CryoSleep     870 non-null    int8 \n",
      " 2   Age           870 non-null    int64\n",
      " 3   RoomService   870 non-null    int64\n",
      " 4   FoodCourt     870 non-null    int64\n",
      " 5   ShoppingMall  870 non-null    int64\n",
      " 6   Spa           870 non-null    int64\n",
      " 7   VRDeck        870 non-null    int64\n",
      " 8   VIP           870 non-null    int8 \n",
      "dtypes: int64(6), int8(3)\n",
      "memory usage: 50.1 KB\n",
      "None \n",
      " None\n"
     ]
    }
   ],
   "source": [
    "X_train,X_test,y_train,y_test=train_test_split(X,y,test_size=0.1)\n",
    "print(X_train.info(),\"\\n\",X_test.info())"
   ]
  },
  {
   "cell_type": "code",
   "execution_count": 38,
   "id": "1c0c85fd",
   "metadata": {
    "execution": {
     "iopub.execute_input": "2024-04-01T06:06:36.596974Z",
     "iopub.status.busy": "2024-04-01T06:06:36.596398Z",
     "iopub.status.idle": "2024-04-01T06:06:36.786679Z",
     "shell.execute_reply": "2024-04-01T06:06:36.785119Z"
    },
    "papermill": {
     "duration": 0.226678,
     "end_time": "2024-04-01T06:06:36.791835",
     "exception": false,
     "start_time": "2024-04-01T06:06:36.565157",
     "status": "completed"
    },
    "tags": []
   },
   "outputs": [
    {
     "name": "stderr",
     "output_type": "stream",
     "text": [
      "/opt/conda/lib/python3.7/site-packages/sklearn/utils/validation.py:993: DataConversionWarning: A column-vector y was passed when a 1d array was expected. Please change the shape of y to (n_samples, ), for example using ravel().\n",
      "  y = column_or_1d(y, warn=True)\n",
      "/opt/conda/lib/python3.7/site-packages/sklearn/linear_model/_logistic.py:818: ConvergenceWarning: lbfgs failed to converge (status=1):\n",
      "STOP: TOTAL NO. of ITERATIONS REACHED LIMIT.\n",
      "\n",
      "Increase the number of iterations (max_iter) or scale the data as shown in:\n",
      "    https://scikit-learn.org/stable/modules/preprocessing.html\n",
      "Please also refer to the documentation for alternative solver options:\n",
      "    https://scikit-learn.org/stable/modules/linear_model.html#logistic-regression\n",
      "  extra_warning_msg=_LOGISTIC_SOLVER_CONVERGENCE_MSG,\n"
     ]
    }
   ],
   "source": [
    "LRModel.fit(X_train,y_train)\n",
    "y_pred=LRModel.predict(X_test)\n",
    "# print(LRModel.score(y_pred,y_test),\"\\n\",LRModel.score(X_test,y_test))"
   ]
  },
  {
   "cell_type": "code",
   "execution_count": 39,
   "id": "30b77394",
   "metadata": {
    "execution": {
     "iopub.execute_input": "2024-04-01T06:06:36.911889Z",
     "iopub.status.busy": "2024-04-01T06:06:36.911362Z",
     "iopub.status.idle": "2024-04-01T06:06:36.918931Z",
     "shell.execute_reply": "2024-04-01T06:06:36.917198Z"
    },
    "papermill": {
     "duration": 0.066822,
     "end_time": "2024-04-01T06:06:36.922015",
     "exception": false,
     "start_time": "2024-04-01T06:06:36.855193",
     "status": "completed"
    },
    "tags": []
   },
   "outputs": [],
   "source": [
    "y_pred=pd.Series(y_pred)\n",
    "y_pred=y_pred.to_frame(name=\"Transported\")"
   ]
  },
  {
   "cell_type": "code",
   "execution_count": 40,
   "id": "a3293027",
   "metadata": {
    "execution": {
     "iopub.execute_input": "2024-04-01T06:06:36.984946Z",
     "iopub.status.busy": "2024-04-01T06:06:36.983647Z",
     "iopub.status.idle": "2024-04-01T06:06:36.994700Z",
     "shell.execute_reply": "2024-04-01T06:06:36.993198Z"
    },
    "papermill": {
     "duration": 0.045675,
     "end_time": "2024-04-01T06:06:36.997688",
     "exception": false,
     "start_time": "2024-04-01T06:06:36.952013",
     "status": "completed"
    },
    "tags": []
   },
   "outputs": [
    {
     "name": "stdout",
     "output_type": "stream",
     "text": [
      "0.7827586206896552\n"
     ]
    }
   ],
   "source": [
    "print(LRModel.score(X_test,y_test))"
   ]
  },
  {
   "cell_type": "markdown",
   "id": "cd0bda9b",
   "metadata": {
    "papermill": {
     "duration": 0.031267,
     "end_time": "2024-04-01T06:06:37.060412",
     "exception": false,
     "start_time": "2024-04-01T06:06:37.029145",
     "status": "completed"
    },
    "tags": []
   },
   "source": [
    "**Explanation**\n",
    "\n",
    "Absolutely , It increases the accuracy by 2%. \n",
    "\n",
    "So, we **conclude** that VIP column is mandatory in the prediction"
   ]
  },
  {
   "cell_type": "code",
   "execution_count": 41,
   "id": "6ed38213",
   "metadata": {
    "execution": {
     "iopub.execute_input": "2024-04-01T06:06:37.123409Z",
     "iopub.status.busy": "2024-04-01T06:06:37.122913Z",
     "iopub.status.idle": "2024-04-01T06:06:37.173522Z",
     "shell.execute_reply": "2024-04-01T06:06:37.172016Z"
    },
    "papermill": {
     "duration": 0.085918,
     "end_time": "2024-04-01T06:06:37.176995",
     "exception": false,
     "start_time": "2024-04-01T06:06:37.091077",
     "status": "completed"
    },
    "tags": []
   },
   "outputs": [
    {
     "name": "stdout",
     "output_type": "stream",
     "text": [
      "<class 'pandas.core.frame.DataFrame'>\n",
      "RangeIndex: 4277 entries, 0 to 4276\n",
      "Data columns (total 13 columns):\n",
      " #   Column        Non-Null Count  Dtype  \n",
      "---  ------        --------------  -----  \n",
      " 0   PassengerId   4277 non-null   object \n",
      " 1   HomePlanet    4190 non-null   object \n",
      " 2   CryoSleep     4184 non-null   object \n",
      " 3   Cabin         4177 non-null   object \n",
      " 4   Destination   4185 non-null   object \n",
      " 5   Age           4186 non-null   float64\n",
      " 6   VIP           4184 non-null   object \n",
      " 7   RoomService   4195 non-null   float64\n",
      " 8   FoodCourt     4171 non-null   float64\n",
      " 9   ShoppingMall  4179 non-null   float64\n",
      " 10  Spa           4176 non-null   float64\n",
      " 11  VRDeck        4197 non-null   float64\n",
      " 12  Name          4183 non-null   object \n",
      "dtypes: float64(6), object(7)\n",
      "memory usage: 434.5+ KB\n"
     ]
    }
   ],
   "source": [
    "testData=pd.read_csv('/kaggle/input/spaceship-titanic/test.csv')\n",
    "testData.info()"
   ]
  },
  {
   "cell_type": "code",
   "execution_count": 42,
   "id": "2cb6b130",
   "metadata": {
    "execution": {
     "iopub.execute_input": "2024-04-01T06:06:37.240266Z",
     "iopub.status.busy": "2024-04-01T06:06:37.239326Z",
     "iopub.status.idle": "2024-04-01T06:06:37.249018Z",
     "shell.execute_reply": "2024-04-01T06:06:37.247352Z"
    },
    "papermill": {
     "duration": 0.044949,
     "end_time": "2024-04-01T06:06:37.252001",
     "exception": false,
     "start_time": "2024-04-01T06:06:37.207052",
     "status": "completed"
    },
    "tags": []
   },
   "outputs": [],
   "source": [
    "testData.drop(columns=['PassengerId','Cabin','Destination','Name'],inplace=True)"
   ]
  },
  {
   "cell_type": "code",
   "execution_count": 43,
   "id": "133aa22e",
   "metadata": {
    "execution": {
     "iopub.execute_input": "2024-04-01T06:06:37.315241Z",
     "iopub.status.busy": "2024-04-01T06:06:37.314264Z",
     "iopub.status.idle": "2024-04-01T06:06:37.339325Z",
     "shell.execute_reply": "2024-04-01T06:06:37.337509Z"
    },
    "papermill": {
     "duration": 0.060251,
     "end_time": "2024-04-01T06:06:37.342416",
     "exception": false,
     "start_time": "2024-04-01T06:06:37.282165",
     "status": "completed"
    },
    "tags": []
   },
   "outputs": [
    {
     "name": "stdout",
     "output_type": "stream",
     "text": [
      "<class 'pandas.core.frame.DataFrame'>\n",
      "RangeIndex: 4277 entries, 0 to 4276\n",
      "Data columns (total 9 columns):\n",
      " #   Column        Non-Null Count  Dtype  \n",
      "---  ------        --------------  -----  \n",
      " 0   HomePlanet    4190 non-null   object \n",
      " 1   CryoSleep     4184 non-null   object \n",
      " 2   Age           4186 non-null   float64\n",
      " 3   VIP           4184 non-null   object \n",
      " 4   RoomService   4195 non-null   float64\n",
      " 5   FoodCourt     4171 non-null   float64\n",
      " 6   ShoppingMall  4179 non-null   float64\n",
      " 7   Spa           4176 non-null   float64\n",
      " 8   VRDeck        4197 non-null   float64\n",
      "dtypes: float64(6), object(3)\n",
      "memory usage: 300.9+ KB\n"
     ]
    },
    {
     "data": {
      "text/plain": [
       "False    2640\n",
       "True     1544\n",
       "Name: CryoSleep, dtype: int64"
      ]
     },
     "execution_count": 43,
     "metadata": {},
     "output_type": "execute_result"
    }
   ],
   "source": [
    "testData.info()\n",
    "testData['CryoSleep'].value_counts()"
   ]
  },
  {
   "cell_type": "code",
   "execution_count": 44,
   "id": "34ee930c",
   "metadata": {
    "execution": {
     "iopub.execute_input": "2024-04-01T06:06:37.407142Z",
     "iopub.status.busy": "2024-04-01T06:06:37.405715Z",
     "iopub.status.idle": "2024-04-01T06:06:37.419113Z",
     "shell.execute_reply": "2024-04-01T06:06:37.417270Z"
    },
    "papermill": {
     "duration": 0.049047,
     "end_time": "2024-04-01T06:06:37.422606",
     "exception": false,
     "start_time": "2024-04-01T06:06:37.373559",
     "status": "completed"
    },
    "tags": []
   },
   "outputs": [
    {
     "data": {
      "text/plain": [
       "False    4110\n",
       "True       74\n",
       "Name: VIP, dtype: int64"
      ]
     },
     "execution_count": 44,
     "metadata": {},
     "output_type": "execute_result"
    }
   ],
   "source": [
    "testData['VIP'].value_counts()"
   ]
  },
  {
   "cell_type": "code",
   "execution_count": 45,
   "id": "845078a5",
   "metadata": {
    "execution": {
     "iopub.execute_input": "2024-04-01T06:06:37.487784Z",
     "iopub.status.busy": "2024-04-01T06:06:37.487342Z",
     "iopub.status.idle": "2024-04-01T06:06:37.498509Z",
     "shell.execute_reply": "2024-04-01T06:06:37.497080Z"
    },
    "papermill": {
     "duration": 0.047414,
     "end_time": "2024-04-01T06:06:37.501695",
     "exception": false,
     "start_time": "2024-04-01T06:06:37.454281",
     "status": "completed"
    },
    "tags": []
   },
   "outputs": [
    {
     "data": {
      "text/plain": [
       "Earth     2263\n",
       "Europa    1002\n",
       "Mars       925\n",
       "Name: HomePlanet, dtype: int64"
      ]
     },
     "execution_count": 45,
     "metadata": {},
     "output_type": "execute_result"
    }
   ],
   "source": [
    "testData['HomePlanet'].value_counts()"
   ]
  },
  {
   "cell_type": "code",
   "execution_count": 46,
   "id": "ef5de29d",
   "metadata": {
    "execution": {
     "iopub.execute_input": "2024-04-01T06:06:37.567276Z",
     "iopub.status.busy": "2024-04-01T06:06:37.566799Z",
     "iopub.status.idle": "2024-04-01T06:06:37.588281Z",
     "shell.execute_reply": "2024-04-01T06:06:37.586475Z"
    },
    "papermill": {
     "duration": 0.058391,
     "end_time": "2024-04-01T06:06:37.591492",
     "exception": false,
     "start_time": "2024-04-01T06:06:37.533101",
     "status": "completed"
    },
    "tags": []
   },
   "outputs": [],
   "source": [
    "testData['HomePlanet']=testData['HomePlanet'].fillna('Earth')\n",
    "testData['CryoSleep']=testData['CryoSleep'].fillna('False')\n",
    "testData['VIP']=testData['VIP'].fillna('False')\n",
    "testData['HomePlanet']=testData['HomePlanet'].astype('category')\n",
    "testData['HomePlanet']=testData['HomePlanet'].cat.codes\n",
    "testData['CryoSleep']=testData['CryoSleep'].astype('category')\n",
    "testData['CryoSleep']=testData['CryoSleep'].cat.codes\n",
    "testData['VIP']=testData['VIP'].astype('category')\n",
    "testData['VIP']=testData['VIP'].cat.codes"
   ]
  },
  {
   "cell_type": "code",
   "execution_count": 47,
   "id": "4f4bcecd",
   "metadata": {
    "execution": {
     "iopub.execute_input": "2024-04-01T06:06:37.656652Z",
     "iopub.status.busy": "2024-04-01T06:06:37.656152Z",
     "iopub.status.idle": "2024-04-01T06:06:37.667266Z",
     "shell.execute_reply": "2024-04-01T06:06:37.665451Z"
    },
    "papermill": {
     "duration": 0.048689,
     "end_time": "2024-04-01T06:06:37.670888",
     "exception": false,
     "start_time": "2024-04-01T06:06:37.622199",
     "status": "completed"
    },
    "tags": []
   },
   "outputs": [],
   "source": [
    "testData['Age']=testData['Age'].fillna(testData['Age'].median())\n",
    "testData['Age']=testData['Age'].astype(int)"
   ]
  },
  {
   "cell_type": "code",
   "execution_count": 48,
   "id": "5b8e6def",
   "metadata": {
    "execution": {
     "iopub.execute_input": "2024-04-01T06:06:37.737118Z",
     "iopub.status.busy": "2024-04-01T06:06:37.735855Z",
     "iopub.status.idle": "2024-04-01T06:06:37.752456Z",
     "shell.execute_reply": "2024-04-01T06:06:37.751036Z"
    },
    "papermill": {
     "duration": 0.054506,
     "end_time": "2024-04-01T06:06:37.755861",
     "exception": false,
     "start_time": "2024-04-01T06:06:37.701355",
     "status": "completed"
    },
    "tags": []
   },
   "outputs": [
    {
     "name": "stdout",
     "output_type": "stream",
     "text": [
      "<class 'pandas.core.frame.DataFrame'>\n",
      "RangeIndex: 4277 entries, 0 to 4276\n",
      "Data columns (total 1 columns):\n",
      " #   Column  Non-Null Count  Dtype\n",
      "---  ------  --------------  -----\n",
      " 0   Age     4277 non-null   int64\n",
      "dtypes: int64(1)\n",
      "memory usage: 33.5 KB\n"
     ]
    }
   ],
   "source": [
    "pd.DataFrame(testData['Age']).info()"
   ]
  },
  {
   "cell_type": "code",
   "execution_count": 49,
   "id": "29a4ae41",
   "metadata": {
    "execution": {
     "iopub.execute_input": "2024-04-01T06:06:37.820400Z",
     "iopub.status.busy": "2024-04-01T06:06:37.819966Z",
     "iopub.status.idle": "2024-04-01T06:06:37.838092Z",
     "shell.execute_reply": "2024-04-01T06:06:37.836130Z"
    },
    "papermill": {
     "duration": 0.054792,
     "end_time": "2024-04-01T06:06:37.841453",
     "exception": false,
     "start_time": "2024-04-01T06:06:37.786661",
     "status": "completed"
    },
    "tags": []
   },
   "outputs": [
    {
     "name": "stdout",
     "output_type": "stream",
     "text": [
      "<class 'pandas.core.frame.DataFrame'>\n",
      "RangeIndex: 4277 entries, 0 to 4276\n",
      "Data columns (total 1 columns):\n",
      " #   Column       Non-Null Count  Dtype\n",
      "---  ------       --------------  -----\n",
      " 0   RoomService  4277 non-null   int64\n",
      "dtypes: int64(1)\n",
      "memory usage: 33.5 KB\n"
     ]
    }
   ],
   "source": [
    "testData['RoomService']=testData['RoomService'].fillna(testData['RoomService'].median())\n",
    "testData['RoomService']=testData['RoomService'].astype(int)\n",
    "pd.DataFrame(testData['RoomService']).info()"
   ]
  },
  {
   "cell_type": "code",
   "execution_count": 50,
   "id": "04aac626",
   "metadata": {
    "execution": {
     "iopub.execute_input": "2024-04-01T06:06:37.909504Z",
     "iopub.status.busy": "2024-04-01T06:06:37.908985Z",
     "iopub.status.idle": "2024-04-01T06:06:37.927399Z",
     "shell.execute_reply": "2024-04-01T06:06:37.925259Z"
    },
    "papermill": {
     "duration": 0.056299,
     "end_time": "2024-04-01T06:06:37.930392",
     "exception": false,
     "start_time": "2024-04-01T06:06:37.874093",
     "status": "completed"
    },
    "tags": []
   },
   "outputs": [
    {
     "name": "stdout",
     "output_type": "stream",
     "text": [
      "<class 'pandas.core.frame.DataFrame'>\n",
      "RangeIndex: 4277 entries, 0 to 4276\n",
      "Data columns (total 1 columns):\n",
      " #   Column     Non-Null Count  Dtype\n",
      "---  ------     --------------  -----\n",
      " 0   FoodCourt  4277 non-null   int64\n",
      "dtypes: int64(1)\n",
      "memory usage: 33.5 KB\n"
     ]
    }
   ],
   "source": [
    "testData['FoodCourt']=testData['FoodCourt'].fillna(testData['FoodCourt'].median())\n",
    "testData['FoodCourt']=testData['FoodCourt'].astype(int)\n",
    "pd.DataFrame(testData['FoodCourt']).info()"
   ]
  },
  {
   "cell_type": "code",
   "execution_count": 51,
   "id": "0c70c190",
   "metadata": {
    "execution": {
     "iopub.execute_input": "2024-04-01T06:06:37.993440Z",
     "iopub.status.busy": "2024-04-01T06:06:37.992967Z",
     "iopub.status.idle": "2024-04-01T06:06:38.015168Z",
     "shell.execute_reply": "2024-04-01T06:06:38.012735Z"
    },
    "papermill": {
     "duration": 0.058383,
     "end_time": "2024-04-01T06:06:38.018852",
     "exception": false,
     "start_time": "2024-04-01T06:06:37.960469",
     "status": "completed"
    },
    "tags": []
   },
   "outputs": [
    {
     "name": "stdout",
     "output_type": "stream",
     "text": [
      "<class 'pandas.core.frame.DataFrame'>\n",
      "RangeIndex: 4277 entries, 0 to 4276\n",
      "Data columns (total 1 columns):\n",
      " #   Column        Non-Null Count  Dtype\n",
      "---  ------        --------------  -----\n",
      " 0   ShoppingMall  4277 non-null   int64\n",
      "dtypes: int64(1)\n",
      "memory usage: 33.5 KB\n"
     ]
    }
   ],
   "source": [
    "testData['ShoppingMall']=testData['ShoppingMall'].fillna(testData['ShoppingMall'].median())\n",
    "testData['ShoppingMall']=testData['ShoppingMall'].astype(int)\n",
    "pd.DataFrame(testData['ShoppingMall']).info()"
   ]
  },
  {
   "cell_type": "code",
   "execution_count": 52,
   "id": "c3a989d2",
   "metadata": {
    "execution": {
     "iopub.execute_input": "2024-04-01T06:06:38.085255Z",
     "iopub.status.busy": "2024-04-01T06:06:38.084790Z",
     "iopub.status.idle": "2024-04-01T06:06:38.102335Z",
     "shell.execute_reply": "2024-04-01T06:06:38.100857Z"
    },
    "papermill": {
     "duration": 0.055226,
     "end_time": "2024-04-01T06:06:38.105260",
     "exception": false,
     "start_time": "2024-04-01T06:06:38.050034",
     "status": "completed"
    },
    "tags": []
   },
   "outputs": [
    {
     "name": "stdout",
     "output_type": "stream",
     "text": [
      "<class 'pandas.core.frame.DataFrame'>\n",
      "RangeIndex: 4277 entries, 0 to 4276\n",
      "Data columns (total 1 columns):\n",
      " #   Column  Non-Null Count  Dtype\n",
      "---  ------  --------------  -----\n",
      " 0   Spa     4277 non-null   int64\n",
      "dtypes: int64(1)\n",
      "memory usage: 33.5 KB\n"
     ]
    }
   ],
   "source": [
    "testData['Spa']=testData['Spa'].fillna(testData['Spa'].median())\n",
    "testData['Spa']=testData['Spa'].astype(int)\n",
    "pd.DataFrame(testData['Spa']).info()"
   ]
  },
  {
   "cell_type": "code",
   "execution_count": 53,
   "id": "449eb20b",
   "metadata": {
    "execution": {
     "iopub.execute_input": "2024-04-01T06:06:38.167819Z",
     "iopub.status.busy": "2024-04-01T06:06:38.167300Z",
     "iopub.status.idle": "2024-04-01T06:06:38.185895Z",
     "shell.execute_reply": "2024-04-01T06:06:38.183550Z"
    },
    "papermill": {
     "duration": 0.053021,
     "end_time": "2024-04-01T06:06:38.188862",
     "exception": false,
     "start_time": "2024-04-01T06:06:38.135841",
     "status": "completed"
    },
    "tags": []
   },
   "outputs": [
    {
     "name": "stdout",
     "output_type": "stream",
     "text": [
      "<class 'pandas.core.frame.DataFrame'>\n",
      "RangeIndex: 4277 entries, 0 to 4276\n",
      "Data columns (total 1 columns):\n",
      " #   Column  Non-Null Count  Dtype\n",
      "---  ------  --------------  -----\n",
      " 0   VRDeck  4277 non-null   int64\n",
      "dtypes: int64(1)\n",
      "memory usage: 33.5 KB\n"
     ]
    }
   ],
   "source": [
    "testData['VRDeck']=testData['VRDeck'].fillna(testData['VRDeck'].median())\n",
    "testData['VRDeck']=testData['VRDeck'].astype(int)\n",
    "pd.DataFrame(testData['VRDeck']).info()"
   ]
  },
  {
   "cell_type": "markdown",
   "id": "60e39832",
   "metadata": {
    "papermill": {
     "duration": 0.029906,
     "end_time": "2024-04-01T06:06:38.248988",
     "exception": false,
     "start_time": "2024-04-01T06:06:38.219082",
     "status": "completed"
    },
    "tags": []
   },
   "source": [
    "**EXPLANATION**\n",
    "\n",
    "All the above cells are used to change all the things that we did to our train data\n",
    "such as\n",
    "- changing all object columns to cat codes\n",
    "- changing all float columns into int64\n",
    "- filling the null values\n"
   ]
  },
  {
   "cell_type": "code",
   "execution_count": 54,
   "id": "7e555334",
   "metadata": {
    "execution": {
     "iopub.execute_input": "2024-04-01T06:06:38.311860Z",
     "iopub.status.busy": "2024-04-01T06:06:38.311414Z",
     "iopub.status.idle": "2024-04-01T06:06:38.329931Z",
     "shell.execute_reply": "2024-04-01T06:06:38.327708Z"
    },
    "papermill": {
     "duration": 0.053411,
     "end_time": "2024-04-01T06:06:38.332921",
     "exception": false,
     "start_time": "2024-04-01T06:06:38.279510",
     "status": "completed"
    },
    "tags": []
   },
   "outputs": [
    {
     "name": "stdout",
     "output_type": "stream",
     "text": [
      "<class 'pandas.core.frame.DataFrame'>\n",
      "RangeIndex: 4277 entries, 0 to 4276\n",
      "Data columns (total 9 columns):\n",
      " #   Column        Non-Null Count  Dtype\n",
      "---  ------        --------------  -----\n",
      " 0   HomePlanet    4277 non-null   int8 \n",
      " 1   CryoSleep     4277 non-null   int8 \n",
      " 2   Age           4277 non-null   int64\n",
      " 3   VIP           4277 non-null   int8 \n",
      " 4   RoomService   4277 non-null   int64\n",
      " 5   FoodCourt     4277 non-null   int64\n",
      " 6   ShoppingMall  4277 non-null   int64\n",
      " 7   Spa           4277 non-null   int64\n",
      " 8   VRDeck        4277 non-null   int64\n",
      "dtypes: int64(6), int8(3)\n",
      "memory usage: 213.1 KB\n"
     ]
    }
   ],
   "source": [
    "testData.info()"
   ]
  },
  {
   "cell_type": "code",
   "execution_count": 55,
   "id": "5b10826a",
   "metadata": {
    "execution": {
     "iopub.execute_input": "2024-04-01T06:06:38.398677Z",
     "iopub.status.busy": "2024-04-01T06:06:38.398241Z",
     "iopub.status.idle": "2024-04-01T06:06:38.408003Z",
     "shell.execute_reply": "2024-04-01T06:06:38.406386Z"
    },
    "papermill": {
     "duration": 0.047681,
     "end_time": "2024-04-01T06:06:38.411401",
     "exception": false,
     "start_time": "2024-04-01T06:06:38.363720",
     "status": "completed"
    },
    "tags": []
   },
   "outputs": [],
   "source": [
    "subData=testData['VIP']\n",
    "testData.drop('VIP',axis=1,inplace=True)"
   ]
  },
  {
   "cell_type": "markdown",
   "id": "ce21de24",
   "metadata": {
    "papermill": {
     "duration": 0.031101,
     "end_time": "2024-04-01T06:06:38.475034",
     "exception": false,
     "start_time": "2024-04-01T06:06:38.443933",
     "status": "completed"
    },
    "tags": []
   },
   "source": [
    "**EXPLANATION**\n",
    "\n",
    "# **We droped the VIP column and added it because **\n",
    "\n",
    "- we trained our model with VIP column as our last column\n",
    "- but here,it appears as 4 column\n",
    "- This will lead to input mismatch and error!!"
   ]
  },
  {
   "cell_type": "code",
   "execution_count": 56,
   "id": "5b1f0a9c",
   "metadata": {
    "execution": {
     "iopub.execute_input": "2024-04-01T06:06:38.541689Z",
     "iopub.status.busy": "2024-04-01T06:06:38.541157Z",
     "iopub.status.idle": "2024-04-01T06:06:38.777904Z",
     "shell.execute_reply": "2024-04-01T06:06:38.775492Z"
    },
    "papermill": {
     "duration": 0.277285,
     "end_time": "2024-04-01T06:06:38.783931",
     "exception": false,
     "start_time": "2024-04-01T06:06:38.506646",
     "status": "completed"
    },
    "tags": []
   },
   "outputs": [
    {
     "name": "stderr",
     "output_type": "stream",
     "text": [
      "/opt/conda/lib/python3.7/site-packages/sklearn/utils/validation.py:993: DataConversionWarning: A column-vector y was passed when a 1d array was expected. Please change the shape of y to (n_samples, ), for example using ravel().\n",
      "  y = column_or_1d(y, warn=True)\n",
      "/opt/conda/lib/python3.7/site-packages/sklearn/linear_model/_logistic.py:818: ConvergenceWarning: lbfgs failed to converge (status=1):\n",
      "STOP: TOTAL NO. of ITERATIONS REACHED LIMIT.\n",
      "\n",
      "Increase the number of iterations (max_iter) or scale the data as shown in:\n",
      "    https://scikit-learn.org/stable/modules/preprocessing.html\n",
      "Please also refer to the documentation for alternative solver options:\n",
      "    https://scikit-learn.org/stable/modules/linear_model.html#logistic-regression\n",
      "  extra_warning_msg=_LOGISTIC_SOLVER_CONVERGENCE_MSG,\n"
     ]
    },
    {
     "data": {
      "text/plain": [
       "LogisticRegression()"
      ]
     },
     "execution_count": 56,
     "metadata": {},
     "output_type": "execute_result"
    }
   ],
   "source": [
    "LRModel.fit(X, y)"
   ]
  },
  {
   "cell_type": "code",
   "execution_count": 57,
   "id": "6d1ee297",
   "metadata": {
    "execution": {
     "iopub.execute_input": "2024-04-01T06:06:38.897316Z",
     "iopub.status.busy": "2024-04-01T06:06:38.896742Z",
     "iopub.status.idle": "2024-04-01T06:06:38.905886Z",
     "shell.execute_reply": "2024-04-01T06:06:38.903883Z"
    },
    "papermill": {
     "duration": 0.052834,
     "end_time": "2024-04-01T06:06:38.909450",
     "exception": false,
     "start_time": "2024-04-01T06:06:38.856616",
     "status": "completed"
    },
    "tags": []
   },
   "outputs": [],
   "source": [
    "testData=pd.concat([testData,subData],axis='columns')"
   ]
  },
  {
   "cell_type": "code",
   "execution_count": 58,
   "id": "bdaa2d63",
   "metadata": {
    "execution": {
     "iopub.execute_input": "2024-04-01T06:06:38.983918Z",
     "iopub.status.busy": "2024-04-01T06:06:38.982738Z",
     "iopub.status.idle": "2024-04-01T06:06:39.004712Z",
     "shell.execute_reply": "2024-04-01T06:06:39.001937Z"
    },
    "papermill": {
     "duration": 0.066417,
     "end_time": "2024-04-01T06:06:39.009921",
     "exception": false,
     "start_time": "2024-04-01T06:06:38.943504",
     "status": "completed"
    },
    "tags": []
   },
   "outputs": [
    {
     "name": "stdout",
     "output_type": "stream",
     "text": [
      "<class 'pandas.core.frame.DataFrame'>\n",
      "RangeIndex: 4277 entries, 0 to 4276\n",
      "Data columns (total 9 columns):\n",
      " #   Column        Non-Null Count  Dtype\n",
      "---  ------        --------------  -----\n",
      " 0   HomePlanet    4277 non-null   int8 \n",
      " 1   CryoSleep     4277 non-null   int8 \n",
      " 2   Age           4277 non-null   int64\n",
      " 3   RoomService   4277 non-null   int64\n",
      " 4   FoodCourt     4277 non-null   int64\n",
      " 5   ShoppingMall  4277 non-null   int64\n",
      " 6   Spa           4277 non-null   int64\n",
      " 7   VRDeck        4277 non-null   int64\n",
      " 8   VIP           4277 non-null   int8 \n",
      "dtypes: int64(6), int8(3)\n",
      "memory usage: 213.1 KB\n"
     ]
    }
   ],
   "source": [
    "testData.info()"
   ]
  },
  {
   "cell_type": "code",
   "execution_count": 59,
   "id": "7ad69e28",
   "metadata": {
    "execution": {
     "iopub.execute_input": "2024-04-01T06:06:39.084941Z",
     "iopub.status.busy": "2024-04-01T06:06:39.084353Z",
     "iopub.status.idle": "2024-04-01T06:06:39.100896Z",
     "shell.execute_reply": "2024-04-01T06:06:39.098184Z"
    },
    "papermill": {
     "duration": 0.05808,
     "end_time": "2024-04-01T06:06:39.106785",
     "exception": false,
     "start_time": "2024-04-01T06:06:39.048705",
     "status": "completed"
    },
    "tags": []
   },
   "outputs": [],
   "source": [
    "prediction=LRModel.predict(testData)"
   ]
  },
  {
   "cell_type": "code",
   "execution_count": 60,
   "id": "4c62f39f",
   "metadata": {
    "execution": {
     "iopub.execute_input": "2024-04-01T06:06:39.235274Z",
     "iopub.status.busy": "2024-04-01T06:06:39.233623Z",
     "iopub.status.idle": "2024-04-01T06:06:39.287355Z",
     "shell.execute_reply": "2024-04-01T06:06:39.285834Z"
    },
    "papermill": {
     "duration": 0.110954,
     "end_time": "2024-04-01T06:06:39.290815",
     "exception": false,
     "start_time": "2024-04-01T06:06:39.179861",
     "status": "completed"
    },
    "tags": []
   },
   "outputs": [
    {
     "name": "stdout",
     "output_type": "stream",
     "text": [
      "PassengerId    0\n",
      "dtype: int64\n",
      "(4277, 1) (4277,)\n",
      "<class 'pandas.core.frame.DataFrame'>\n",
      "RangeIndex: 4277 entries, 0 to 4276\n",
      "Data columns (total 2 columns):\n",
      " #   Column       Non-Null Count  Dtype \n",
      "---  ------       --------------  ----- \n",
      " 0   PassengerId  4277 non-null   object\n",
      " 1   Transported  4277 non-null   bool  \n",
      "dtypes: bool(1), object(1)\n",
      "memory usage: 37.7+ KB\n",
      "None\n",
      "     PassengerId  Transported\n",
      "0        0013_01         True\n",
      "1        0018_01        False\n",
      "2        0019_01         True\n",
      "3        0021_01         True\n",
      "4        0023_01         True\n",
      "...          ...          ...\n",
      "4272     9266_02         True\n",
      "4273     9269_01         True\n",
      "4274     9271_01         True\n",
      "4275     9273_01         True\n",
      "4276     9277_01         True\n",
      "\n",
      "[4277 rows x 2 columns]\n"
     ]
    }
   ],
   "source": [
    "final_submission=pd.read_csv('/kaggle/input/spaceship-titanic/test.csv')\n",
    "final_submission=pd.DataFrame(final_submission.PassengerId,columns=['PassengerId'])\n",
    "print(final_submission.isnull().sum())\n",
    "print(final_submission.shape,prediction.shape)\n",
    "final_submission=pd.concat([final_submission,pd.DataFrame(prediction,columns=['Transported'])],axis='columns')\n",
    "print(final_submission.info())\n",
    "print(final_submission)"
   ]
  },
  {
   "cell_type": "code",
   "execution_count": 61,
   "id": "bb39769c",
   "metadata": {
    "execution": {
     "iopub.execute_input": "2024-04-01T06:06:39.358136Z",
     "iopub.status.busy": "2024-04-01T06:06:39.356558Z",
     "iopub.status.idle": "2024-04-01T06:06:39.379705Z",
     "shell.execute_reply": "2024-04-01T06:06:39.378328Z"
    },
    "papermill": {
     "duration": 0.060055,
     "end_time": "2024-04-01T06:06:39.383199",
     "exception": false,
     "start_time": "2024-04-01T06:06:39.323144",
     "status": "completed"
    },
    "tags": []
   },
   "outputs": [],
   "source": [
    "final_submission.to_csv('submission.csv',index=False)"
   ]
  }
 ],
 "metadata": {
  "kaggle": {
   "accelerator": "none",
   "dataSources": [
    {
     "databundleVersionId": 3220602,
     "sourceId": 34377,
     "sourceType": "competition"
    }
   ],
   "dockerImageVersionId": 30407,
   "isGpuEnabled": false,
   "isInternetEnabled": true,
   "language": "python",
   "sourceType": "notebook"
  },
  "kernelspec": {
   "display_name": "Python 3",
   "language": "python",
   "name": "python3"
  },
  "language_info": {
   "codemirror_mode": {
    "name": "ipython",
    "version": 3
   },
   "file_extension": ".py",
   "mimetype": "text/x-python",
   "name": "python",
   "nbconvert_exporter": "python",
   "pygments_lexer": "ipython3",
   "version": "3.7.12"
  },
  "papermill": {
   "default_parameters": {},
   "duration": 26.242576,
   "end_time": "2024-04-01T06:06:40.676906",
   "environment_variables": {},
   "exception": null,
   "input_path": "__notebook__.ipynb",
   "output_path": "__notebook__.ipynb",
   "parameters": {},
   "start_time": "2024-04-01T06:06:14.434330",
   "version": "2.4.0"
  }
 },
 "nbformat": 4,
 "nbformat_minor": 5
}
